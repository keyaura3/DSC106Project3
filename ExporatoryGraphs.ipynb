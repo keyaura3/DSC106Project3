{
 "cells": [
  {
   "cell_type": "markdown",
   "id": "7a4b3d82",
   "metadata": {},
   "source": [
    "## Exploring the Data"
   ]
  },
  {
   "cell_type": "code",
   "execution_count": 2,
   "id": "40487a35",
   "metadata": {},
   "outputs": [],
   "source": [
    "# imports\n",
    "import pandas as pd\n",
    "import matplotlib.pyplot as plt\n",
    "import numpy as np\n",
    "import seaborn as sns"
   ]
  },
  {
   "cell_type": "code",
   "execution_count": null,
   "id": "fbd06f19",
   "metadata": {},
   "outputs": [],
   "source": [
    "# loading in the data\n",
    "fem_temp = pd.read_csv('./Data/Mouse_Data_Student_Copy.xlsx - Fem Temp.csv')\n",
    "fem_act = fem_temp = pd.read_csv('./Data/Mouse_Data_Student_Copy.xlsx - Fem Act.csv')\n",
    "male_temp = pd.read_csv('./Data/Mouse_Data_Student_Copy.xlsx - Male Temp.csv')\n",
    "male_act = fem_temp = pd.read_csv('./Data/Mouse_Data_Student_Copy.xlsx - Male Act.csv')"
   ]
  },
  {
   "cell_type": "code",
   "execution_count": null,
   "id": "a69a27c3",
   "metadata": {},
   "outputs": [],
   "source": []
  }
 ],
 "metadata": {
  "kernelspec": {
   "display_name": "Python 3",
   "language": "python",
   "name": "python3"
  },
  "language_info": {
   "codemirror_mode": {
    "name": "ipython",
    "version": 3
   },
   "file_extension": ".py",
   "mimetype": "text/x-python",
   "name": "python",
   "nbconvert_exporter": "python",
   "pygments_lexer": "ipython3",
   "version": "3.11.5"
  }
 },
 "nbformat": 4,
 "nbformat_minor": 5
}
